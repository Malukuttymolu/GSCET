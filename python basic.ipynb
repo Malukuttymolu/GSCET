{
 "cells": [
  {
   "cell_type": "code",
   "execution_count": 6,
   "id": "a2a4e733",
   "metadata": {},
   "outputs": [
    {
     "data": {
      "text/plain": [
       "50"
      ]
     },
     "execution_count": 6,
     "metadata": {},
     "output_type": "execute_result"
    }
   ],
   "source": [
    "  (2+3)*(5+5)"
   ]
  },
  {
   "cell_type": "code",
   "execution_count": 8,
   "id": "c58ecb9d",
   "metadata": {},
   "outputs": [],
   "source": [
    "x=2\n",
    "y=3"
   ]
  },
  {
   "cell_type": "code",
   "execution_count": null,
   "id": "9089fcb3",
   "metadata": {},
   "outputs": [],
   "source": []
  }
 ],
 "metadata": {
  "kernelspec": {
   "display_name": "Python 3 (ipykernel)",
   "language": "python",
   "name": "python3"
  },
  "language_info": {
   "codemirror_mode": {
    "name": "ipython",
    "version": 3
   },
   "file_extension": ".py",
   "mimetype": "text/x-python",
   "name": "python",
   "nbconvert_exporter": "python",
   "pygments_lexer": "ipython3",
   "version": "3.11.5"
  }
 },
 "nbformat": 4,
 "nbformat_minor": 5
}
